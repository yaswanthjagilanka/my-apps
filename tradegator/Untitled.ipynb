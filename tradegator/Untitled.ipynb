{
 "cells": [
  {
   "cell_type": "code",
   "execution_count": 1,
   "id": "27df3cf9",
   "metadata": {},
   "outputs": [],
   "source": [
    "from technicalanalysis import *"
   ]
  },
  {
   "cell_type": "code",
   "execution_count": 2,
   "id": "72539b3d",
   "metadata": {
    "scrolled": true
   },
   "outputs": [],
   "source": [
    "from scraping import scrape_data"
   ]
  },
  {
   "cell_type": "code",
   "execution_count": 3,
   "id": "847bedb4",
   "metadata": {},
   "outputs": [],
   "source": [
    "from datetime import datetime\n",
    "datetime.now()\n",
    "import warnings\n",
    "\n",
    "warnings.filterwarnings(\"ignore\")"
   ]
  },
  {
   "cell_type": "code",
   "execution_count": 20,
   "id": "f0ecd7c5",
   "metadata": {},
   "outputs": [
    {
     "name": "stdout",
     "output_type": "stream",
     "text": [
      "[*********************100%***********************]  1 of 1 completed\n"
     ]
    }
   ],
   "source": [
    "data = scrape_data(start_period=\"2015-01-01\", end_period=datetime.now(),ticker_stock=\"TSLA\",interval=False)"
   ]
  },
  {
   "cell_type": "code",
   "execution_count": 21,
   "id": "198da72d",
   "metadata": {},
   "outputs": [
    {
     "name": "stdout",
     "output_type": "stream",
     "text": [
      "Slope in this stock is : [-6.94919208]\n",
      "change in current share  [-694.91920756]\n"
     ]
    },
    {
     "data": {
      "text/plain": [
       "True"
      ]
     },
     "execution_count": 21,
     "metadata": {},
     "output_type": "execute_result"
    }
   ],
   "source": [
    "find_trend(data)"
   ]
  },
  {
   "cell_type": "code",
   "execution_count": 22,
   "id": "0269fe99",
   "metadata": {},
   "outputs": [
    {
     "data": {
      "text/plain": [
       "({'Pivot': {0: 1038.739990234375},\n",
       "  'R1': {0: 1050.0599365234375},\n",
       "  'R2': {0: 1064.7799072265625},\n",
       "  'R3': {0: 1090.81982421875},\n",
       "  'S1': {0: 1024.02001953125},\n",
       "  'S2': {0: 1012.7000732421875},\n",
       "  'S3': {0: 986.66015625}},\n",
       "                    Open         High          Low        Close    Adj Close  \\\n",
       " Date                                                                          \n",
       " 2015-01-02    44.574001    44.650002    42.652000    43.862000    43.862000   \n",
       " 2015-01-05    42.910000    43.299999    41.431999    42.018002    42.018002   \n",
       " 2015-01-06    42.012001    42.840000    40.841999    42.256001    42.256001   \n",
       " 2015-01-07    42.669998    42.956001    41.956001    42.189999    42.189999   \n",
       " 2015-01-08    42.562000    42.759998    42.001999    42.124001    42.124001   \n",
       " ...                 ...          ...          ...          ...          ...   \n",
       " 2021-12-01  1160.699951  1172.839966  1090.760010  1095.000000  1095.000000   \n",
       " 2021-12-02  1099.060059  1113.000000  1056.650024  1084.599976  1084.599976   \n",
       " 2021-12-03  1084.790039  1090.579956  1000.210022  1014.969971  1014.969971   \n",
       " 2021-12-06  1001.510010  1021.640015   950.500000  1009.010010  1009.010010   \n",
       " 2021-12-07  1044.199951  1053.459961  1027.420044  1035.339966  1035.339966   \n",
       " \n",
       "               Volume        Pivot           R1           S1           R2  \\\n",
       " Date                                                                       \n",
       " 2015-01-02  23822000          NaN          NaN          NaN          NaN   \n",
       " 2015-01-05  26842500    43.721334    44.790667    42.792666    45.719335   \n",
       " 2015-01-06  31309500    42.250000    43.068001    41.200001    44.118000   \n",
       " 2015-01-07  14842000    41.979333    43.116667    41.118666    43.977334   \n",
       " 2015-01-08  17212500    42.367334    42.778666    41.778666    43.367334   \n",
       " ...              ...          ...          ...          ...          ...   \n",
       " 2021-12-01  22816800  1143.586670  1169.173340  1119.173340  1193.586670   \n",
       " 2021-12-02  24258700  1119.533325  1148.306641  1066.226685  1201.613281   \n",
       " 2021-12-03  30696300  1084.750000  1112.849976  1056.500000  1141.099976   \n",
       " 2021-12-06  27145300  1035.253316  1070.296611   979.926676  1125.623250   \n",
       " 2021-12-07   7227332   993.716675  1036.933350   965.793335  1064.856689   \n",
       " \n",
       "                      S2           R3           S3  \n",
       " Date                                               \n",
       " 2015-01-02          NaN          NaN          NaN  \n",
       " 2015-01-05    41.723333    47.717336    39.725332  \n",
       " 2015-01-06    40.382000    45.986000    38.514000  \n",
       " 2015-01-07    39.981332    45.975335    37.983331  \n",
       " 2015-01-08    41.367334    44.367334    40.367334  \n",
       " ...                 ...          ...          ...  \n",
       " 2021-12-01  1093.586670  1243.586670  1043.586670  \n",
       " 2021-12-02  1037.453369  1283.693237   955.373413  \n",
       " 2021-12-03  1028.400024  1197.449951   972.050049  \n",
       " 2021-12-06   944.883382  1215.993184   854.513448  \n",
       " 2021-12-07   922.576660  1135.996704   851.436646  \n",
       " \n",
       " [1746 rows x 13 columns])"
      ]
     },
     "execution_count": 22,
     "metadata": {},
     "output_type": "execute_result"
    }
   ],
   "source": [
    "find_cpr(data)"
   ]
  },
  {
   "cell_type": "code",
   "execution_count": 23,
   "id": "8d939785",
   "metadata": {
    "scrolled": true
   },
   "outputs": [],
   "source": [
    "data1 = find_rsi(data)"
   ]
  },
  {
   "cell_type": "code",
   "execution_count": 24,
   "id": "917169cb",
   "metadata": {},
   "outputs": [],
   "source": [
    "data2 = find_entry_exit(data1)"
   ]
  },
  {
   "cell_type": "code",
   "execution_count": 25,
   "id": "76f0998a",
   "metadata": {},
   "outputs": [],
   "source": [
    "buy = data2.tail(1)[['Buy Signal']]\n",
    "if np.isnan(buy.values[0][0]):# is not nan:\n",
    "    buy_signal = \"No Buy Signal Right now\"\n",
    "else:\n",
    "    buy_signal = buy.values[0][0]\n",
    "sell = data2.tail(1)[['Sell Signal']]\n",
    "if np.isnan(sell.values[0][0]):# is not nan:\n",
    "    sell_signal = \"No Sell Signal Right now\"\n",
    "else:\n",
    "    sell_signal = sell.values[0][0]"
   ]
  },
  {
   "cell_type": "code",
   "execution_count": 26,
   "id": "988df8e5",
   "metadata": {},
   "outputs": [
    {
     "data": {
      "text/plain": [
       "<bound method Series.unique of Date\n",
       "2015-01-02     0.000000\n",
       "2015-01-05    -0.029420\n",
       "2015-01-06    -0.071873\n",
       "2015-01-07    -0.121159\n",
       "2015-01-08    -0.172921\n",
       "                ...    \n",
       "2021-12-01    45.167217\n",
       "2021-12-02    42.507880\n",
       "2021-12-03    38.482059\n",
       "2021-12-06    33.627998\n",
       "2021-12-07    28.852702\n",
       "Name: Close, Length: 1746, dtype: float64>"
      ]
     },
     "execution_count": 26,
     "metadata": {},
     "output_type": "execute_result"
    }
   ],
   "source": [
    "find_macd(data).unique"
   ]
  },
  {
   "cell_type": "code",
   "execution_count": 27,
   "id": "c3845114",
   "metadata": {},
   "outputs": [
    {
     "name": "stdout",
     "output_type": "stream",
     "text": [
      "Strategy yielded  10  trades\n",
      "Average trade lasted  173  days per trade\n",
      "Our average profit per trade was  13.2631092804671 %\n"
     ]
    }
   ],
   "source": [
    "df = data2\n",
    "trade_count = df['Buy Signal'].count()\n",
    "## Average Profit per/trade:\n",
    "average_profit = ((df['Strategy'][-1] / df['Strategy'][15])**(1/trade_count))-1\n",
    "## Number of days per/trade\n",
    "total_days = df['Long Tomorrow'].count()\n",
    "average_days = int(total_days / trade_count)\n",
    "print('Strategy yielded ', trade_count, ' trades')\n",
    "print('Average trade lasted ', average_days, ' days per trade')\n",
    "print('Our average profit per trade was ', average_profit*100, '%')"
   ]
  },
  {
   "cell_type": "code",
   "execution_count": null,
   "id": "0f576ceb",
   "metadata": {},
   "outputs": [],
   "source": []
  },
  {
   "cell_type": "code",
   "execution_count": null,
   "id": "8aa6967d",
   "metadata": {},
   "outputs": [],
   "source": []
  }
 ],
 "metadata": {
  "kernelspec": {
   "display_name": "Python 3",
   "language": "python",
   "name": "python3"
  },
  "language_info": {
   "codemirror_mode": {
    "name": "ipython",
    "version": 3
   },
   "file_extension": ".py",
   "mimetype": "text/x-python",
   "name": "python",
   "nbconvert_exporter": "python",
   "pygments_lexer": "ipython3",
   "version": "3.8.8"
  }
 },
 "nbformat": 4,
 "nbformat_minor": 5
}
