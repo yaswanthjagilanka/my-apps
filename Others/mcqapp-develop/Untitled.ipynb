{
 "cells": [
  {
   "cell_type": "code",
   "execution_count": 26,
   "metadata": {},
   "outputs": [],
   "source": [
    "file = open('questions.txt','r')\n",
    "var = file.read()\n",
    "questions = json.loads(var)"
   ]
  },
  {
   "cell_type": "code",
   "execution_count": 33,
   "metadata": {},
   "outputs": [],
   "source": [
    "import random\n",
    "import json"
   ]
  },
  {
   "cell_type": "code",
   "execution_count": 31,
   "metadata": {},
   "outputs": [],
   "source": [
    "i  = len(questions)"
   ]
  },
  {
   "cell_type": "code",
   "execution_count": 34,
   "metadata": {},
   "outputs": [],
   "source": [
    "x = random.randint(0,i)"
   ]
  },
  {
   "cell_type": "code",
   "execution_count": 36,
   "metadata": {},
   "outputs": [],
   "source": [
    "t=[]\n",
    "while len(t)<5:\n",
    "    x = random.randint(0,i)\n",
    "    if x in t:\n",
    "        print (\"present\")\n",
    "    else:\n",
    "        t.append(x)"
   ]
  },
  {
   "cell_type": "code",
   "execution_count": 37,
   "metadata": {},
   "outputs": [
    {
     "data": {
      "text/plain": [
       "[11, 16, 0, 1, 10]"
      ]
     },
     "execution_count": 37,
     "metadata": {},
     "output_type": "execute_result"
    }
   ],
   "source": [
    "t"
   ]
  },
  {
   "cell_type": "code",
   "execution_count": 38,
   "metadata": {},
   "outputs": [
    {
     "name": "stdout",
     "output_type": "stream",
     "text": [
      "{'Question': 'Which of the following cannot be a variable?', 'A': '__init__', 'B': 'in', 'C': 'it', 'D': 'on', 'Answer': 'A'}\n",
      "{'Question': 'Which of the following cannot be a variable?', 'A': '__init__', 'B': 'in', 'C': 'it', 'D': 'on', 'Answer': 'A'}\n",
      "{'Question': 'All keywords in Python are in _________', 'A': 'lower case', 'B': 'UPPER CASE', 'C': 'Capitalized', 'D': 'None of the mentioned', 'Answer': 'A'}\n",
      "{'Question': 'Which of the following cannot be a variable?', 'A': '__init__', 'B': 'in', 'C': 'it', 'D': 'on', 'Answer': 'A'}\n",
      "{'Question': 'All keywords in Python are in _________', 'A': 'lower case', 'B': 'UPPER CASE', 'C': 'Capitalized', 'D': 'None of the mentioned', 'Answer': 'A'}\n"
     ]
    }
   ],
   "source": [
    "for x in t:\n",
    "    print (questions[x])"
   ]
  },
  {
   "cell_type": "code",
   "execution_count": 11,
   "metadata": {},
   "outputs": [],
   "source": [
    "var = [{'question': 'All keywords in Python are in _________', 'answers': {'A': 'lower case', 'B': 'UPPER CASE', 'C': 'Capitalized', 'D': 'None of the mentioned'}, 'correct_answer': 'A'}, {'question': 'All keywords in Python are in _________', 'answers': {'A': 'lower case', 'B': 'UPPER CASE', 'C': 'Capitalized', 'D': 'None of the mentioned'}, 'correct_answer': 'A'}, {'question': 'All keywords in Python are in _________', 'answers': {'A': 'lower case', 'B': 'UPPER CASE', 'C': 'Capitalized', 'D': 'None of the mentioned'}, 'correct_answer': 'A'}[]]"
   ]
  },
  {
   "cell_type": "code",
   "execution_count": 21,
   "metadata": {},
   "outputs": [
    {
     "name": "stdout",
     "output_type": "stream",
     "text": [
      "A\n",
      "A\n",
      "A\n"
     ]
    }
   ],
   "source": [
    "for x in var :\n",
    "    print (x['correct_answer'])\n",
    "    li.append(x['correct_answer'])"
   ]
  },
  {
   "cell_type": "code",
   "execution_count": 22,
   "metadata": {},
   "outputs": [
    {
     "data": {
      "text/plain": [
       "['A', 'A', 'A']"
      ]
     },
     "execution_count": 22,
     "metadata": {},
     "output_type": "execute_result"
    }
   ],
   "source": [
    "li\n",
    "\n"
   ]
  },
  {
   "cell_type": "code",
   "execution_count": null,
   "metadata": {},
   "outputs": [],
   "source": []
  },
  {
   "cell_type": "code",
   "execution_count": null,
   "metadata": {},
   "outputs": [],
   "source": []
  },
  {
   "cell_type": "code",
   "execution_count": null,
   "metadata": {},
   "outputs": [],
   "source": []
  }
 ],
 "metadata": {
  "kernelspec": {
   "display_name": "Python 3",
   "language": "python",
   "name": "python3"
  },
  "language_info": {
   "codemirror_mode": {
    "name": "ipython",
    "version": 3
   },
   "file_extension": ".py",
   "mimetype": "text/x-python",
   "name": "python",
   "nbconvert_exporter": "python",
   "pygments_lexer": "ipython3",
   "version": "3.7.4"
  }
 },
 "nbformat": 4,
 "nbformat_minor": 4
}
