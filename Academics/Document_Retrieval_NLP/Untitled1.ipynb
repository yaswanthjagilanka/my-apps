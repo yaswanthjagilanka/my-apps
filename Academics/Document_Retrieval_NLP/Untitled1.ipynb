{
 "cells": [
  {
   "cell_type": "code",
   "execution_count": 10,
   "id": "fbebe9df-d169-460a-87d8-bc6a666e8aa1",
   "metadata": {},
   "outputs": [],
   "source": [
    "import pandas as pd\n",
    "import os"
   ]
  },
  {
   "cell_type": "code",
   "execution_count": 26,
   "id": "ec26fd7d-e0ba-4ab3-a517-96f4ef5edeae",
   "metadata": {},
   "outputs": [],
   "source": [
    "import json\n",
    "from nltk.corpus import stopwords\n",
    "from nltk.stem import WordNetLemmatizer\n",
    "import pandas as pd\n",
    "\n",
    "\n",
    "\n",
    "\n",
    "def query_and_matching(path,query):\n",
    "    df = pd.read_parquet(path+'topics_LDA.parquet', engine='fastparquet')\n",
    "    words = initial_query_process(query)\n",
    "    topicid = topicid_getter(df,words)\n",
    "    id_out = id_getter(path,topicid)\n",
    "    finaldf,final_json = json_getter(path,id_out)\n",
    "    return finaldf,final_json\n",
    "\n",
    "\n",
    "def initial_query_process(test):\n",
    "    words = test.split(\" \")\n",
    "    words = [word.lower() for word in words]\n",
    "    data = [word for word in words if not word in set(stopwords.words('english'))]\n",
    "    lemmmatizer=WordNetLemmatizer()\n",
    "    words = [lemmmatizer.lemmatize(word.lower()) for word in data if word not in set(stopwords.words('english'))]\n",
    "    return words\n",
    "\n",
    "\n",
    "def topicid_getter(df,words):\n",
    "    topic = []\n",
    "    for index, row in df.iterrows():\n",
    "        weight = 0\n",
    "        for t in words:\n",
    "            try:\n",
    "                arg = row['words_in_topic'].index(t)\n",
    "                weight+= row['termWeights'][arg]\n",
    "            except ValueError:\n",
    "                pass\n",
    "        topic.append(weight)\n",
    "    topicid = topic.index(max(topic)) + 1\n",
    "    return topicid\n",
    "\n",
    "def id_getter(path,topicid):\n",
    "    df1 = pd.read_parquet(path+'transformed_LDA_TopicDist.parquet', engine='fastparquet')\n",
    "    topic = [\"topic\"+str(i) for i in range(1,21)]\n",
    "    df1[topic] = pd.DataFrame(df1['topicDistribution.values'].tolist())\n",
    "    id_out = list(df1.sort_values(['topic'+str(topicid)], ascending=[False]).index)\n",
    "    return id_out[:15]\n",
    "\n",
    "def json_getter(path,id_out):\n",
    "    df = pd.read_parquet(path+'trans_sub_df.parquet', engine='fastparquet')\n",
    "    df_new = df[['id','title','abstract','authors','Year']]\n",
    "    dfout = df_new.iloc[id_out]\n",
    "    dfout.abstract = dfout.abstract.apply(lambda x:x.replace(\"\\n\",\" \"))\n",
    "    dfout.title = dfout.title.apply(lambda x:x.replace(\"\\n\",\" \"))\n",
    "    return dfout,dfout.to_json(orient=\"records\")"
   ]
  },
  {
   "cell_type": "code",
   "execution_count": 27,
   "id": "af51fd4c-cd7a-41f4-82ab-0160f34570b4",
   "metadata": {},
   "outputs": [
    {
     "name": "stdout",
     "output_type": "stream",
     "text": [
      "[Errno 2] No such file or directory: 'data'\n",
      "/Users/yjagilanka/Desktop/sem2/DIC/Document_Retrieval_NLP/data\n"
     ]
    }
   ],
   "source": [
    "cd data"
   ]
  },
  {
   "cell_type": "code",
   "execution_count": 28,
   "id": "10a98101-be74-4e07-b77d-5d33b1d04ecd",
   "metadata": {},
   "outputs": [],
   "source": [
    "path = os.getcwd()+\"/OutputFiles_ComputerScience/\""
   ]
  },
  {
   "cell_type": "code",
   "execution_count": 29,
   "id": "325a8f15-62ea-44c5-b35b-5a300e83b816",
   "metadata": {},
   "outputs": [],
   "source": [
    "query = \"convolution neural network in image scene detection\""
   ]
  },
  {
   "cell_type": "code",
   "execution_count": 30,
   "id": "8bb1fae4-2196-4ad2-9a15-d2f787006369",
   "metadata": {},
   "outputs": [
    {
     "data": {
      "text/plain": [
       "'/Users/yjagilanka/Desktop/sem2/DIC/Document_Retrieval_NLP/data/OutputFiles_ComputerScience/'"
      ]
     },
     "execution_count": 30,
     "metadata": {},
     "output_type": "execute_result"
    }
   ],
   "source": [
    "path"
   ]
  },
  {
   "cell_type": "code",
   "execution_count": null,
   "id": "76473555-9594-4830-8d99-74394e8202d3",
   "metadata": {},
   "outputs": [],
   "source": []
  },
  {
   "cell_type": "code",
   "execution_count": 31,
   "id": "edf04d7a-8a30-4ca7-867d-0e187fb68470",
   "metadata": {},
   "outputs": [],
   "source": [
    "outdf, outjson = query_and_matching(path,query)"
   ]
  },
  {
   "cell_type": "code",
   "execution_count": 33,
   "id": "311d904e-7654-4011-91e8-f49b66cb0082",
   "metadata": {},
   "outputs": [
    {
     "data": {
      "text/plain": [
       "(15, 5)"
      ]
     },
     "execution_count": 33,
     "metadata": {},
     "output_type": "execute_result"
    }
   ],
   "source": [
    "outdf.shape"
   ]
  },
  {
   "cell_type": "code",
   "execution_count": null,
   "id": "e577fbc9-9ea7-4f72-b836-5927a3fde8ba",
   "metadata": {},
   "outputs": [],
   "source": []
  }
 ],
 "metadata": {
  "kernelspec": {
   "display_name": "Python 3 (ipykernel)",
   "language": "python",
   "name": "python3"
  },
  "language_info": {
   "codemirror_mode": {
    "name": "ipython",
    "version": 3
   },
   "file_extension": ".py",
   "mimetype": "text/x-python",
   "name": "python",
   "nbconvert_exporter": "python",
   "pygments_lexer": "ipython3",
   "version": "3.9.7"
  }
 },
 "nbformat": 4,
 "nbformat_minor": 5
}
