{
 "cells": [
  {
   "cell_type": "code",
   "execution_count": 3,
   "id": "a1eee680",
   "metadata": {},
   "outputs": [],
   "source": [
    "import numpy as np\n",
    "import pandas as pd\n",
    "\n",
    "# Data Source\n",
    "import yfinance as yf"
   ]
  },
  {
   "cell_type": "code",
   "execution_count": 4,
   "id": "600eb63e",
   "metadata": {
    "scrolled": true
   },
   "outputs": [
    {
     "name": "stdout",
     "output_type": "stream",
     "text": [
      "Collecting prophet"
     ]
    },
    {
     "name": "stderr",
     "output_type": "stream",
     "text": [
      "  ERROR: Command errored out with exit status 1:\n",
      "   command: 'C:\\ProgramData\\Anaconda3\\python.exe' -u -c 'import sys, setuptools, tokenize; sys.argv[0] = '\"'\"'C:\\\\Users\\\\Yaswanth\\\\AppData\\\\Local\\\\Temp\\\\pip-install-av0x0x7x\\\\prophet_6d6b51cc563046ad95a1bb0add17e45f\\\\setup.py'\"'\"'; __file__='\"'\"'C:\\\\Users\\\\Yaswanth\\\\AppData\\\\Local\\\\Temp\\\\pip-install-av0x0x7x\\\\prophet_6d6b51cc563046ad95a1bb0add17e45f\\\\setup.py'\"'\"';f=getattr(tokenize, '\"'\"'open'\"'\"', open)(__file__);code=f.read().replace('\"'\"'\\r\\n'\"'\"', '\"'\"'\\n'\"'\"');f.close();exec(compile(code, __file__, '\"'\"'exec'\"'\"'))' bdist_wheel -d 'C:\\Users\\Yaswanth\\AppData\\Local\\Temp\\pip-wheel-jg0p586u'\n",
      "       cwd: C:\\Users\\Yaswanth\\AppData\\Local\\Temp\\pip-install-av0x0x7x\\prophet_6d6b51cc563046ad95a1bb0add17e45f\\\n",
      "  Complete output (10 lines):\n",
      "  running bdist_wheel\n",
      "  running build\n",
      "  running build_py\n",
      "  creating build\n",
      "  creating build\\lib\n",
      "  creating build\\lib\\prophet\n",
      "  creating build\\lib\\prophet\\stan_model\n",
      "  INFO:pystan:COMPILING THE C++ CODE FOR MODEL anon_model_f5236004a3fd5b8429270d00efcc0cf9 NOW.\n",
      "  WARNING:pystan:MSVC compiler is not supported\n"
     ]
    },
    {
     "name": "stdout",
     "output_type": "stream",
     "text": [
      "\n",
      "  Using cached prophet-1.0.1.tar.gz (65 kB)\n",
      "Requirement already satisfied: Cython>=0.22 in c:\\programdata\\anaconda3\\lib\\site-packages (from prophet) (0.29.23)\n",
      "Requirement already satisfied: cmdstanpy==0.9.68 in c:\\programdata\\anaconda3\\lib\\site-packages (from prophet) (0.9.68)\n",
      "Requirement already satisfied: pystan~=2.19.1.1 in c:\\programdata\\anaconda3\\lib\\site-packages (from prophet) (2.19.1.1)\n",
      "Requirement already satisfied: numpy>=1.15.4 in c:\\users\\yaswanth\\appdata\\roaming\\python\\python38\\site-packages (from prophet) (1.21.4)\n",
      "Requirement already satisfied: pandas>=1.0.4 in c:\\programdata\\anaconda3\\lib\\site-packages (from prophet) (1.2.4)\n",
      "Requirement already satisfied: matplotlib>=2.0.0 in c:\\programdata\\anaconda3\\lib\\site-packages (from prophet) (3.3.4)\n",
      "Requirement already satisfied: LunarCalendar>=0.0.9 in c:\\programdata\\anaconda3\\lib\\site-packages (from prophet) (0.0.9)\n",
      "Requirement already satisfied: convertdate>=2.1.2 in c:\\programdata\\anaconda3\\lib\\site-packages (from prophet) (2.3.2)\n",
      "Requirement already satisfied: holidays>=0.10.2 in c:\\programdata\\anaconda3\\lib\\site-packages (from prophet) (0.11.3.1)\n",
      "Requirement already satisfied: setuptools-git>=1.2 in c:\\programdata\\anaconda3\\lib\\site-packages (from prophet) (1.2)\n",
      "Requirement already satisfied: python-dateutil>=2.8.0 in c:\\programdata\\anaconda3\\lib\\site-packages (from prophet) (2.8.1)\n",
      "Requirement already satisfied: tqdm>=4.36.1 in c:\\programdata\\anaconda3\\lib\\site-packages (from prophet) (4.59.0)\n",
      "Requirement already satisfied: ujson in c:\\programdata\\anaconda3\\lib\\site-packages (from cmdstanpy==0.9.68->prophet) (4.0.2)\n",
      "Requirement already satisfied: pymeeus<=1,>=0.3.13 in c:\\programdata\\anaconda3\\lib\\site-packages (from convertdate>=2.1.2->prophet) (0.5.11)\n",
      "Requirement already satisfied: pytz>=2014.10 in c:\\programdata\\anaconda3\\lib\\site-packages (from convertdate>=2.1.2->prophet) (2021.1)\n",
      "Requirement already satisfied: hijri-converter in c:\\programdata\\anaconda3\\lib\\site-packages (from holidays>=0.10.2->prophet) (2.2.2)\n",
      "Requirement already satisfied: korean-lunar-calendar in c:\\programdata\\anaconda3\\lib\\site-packages (from holidays>=0.10.2->prophet) (0.2.1)\n",
      "Requirement already satisfied: ephem>=3.7.5.3 in c:\\programdata\\anaconda3\\lib\\site-packages (from LunarCalendar>=0.0.9->prophet) (4.1.1)\n",
      "Requirement already satisfied: kiwisolver>=1.0.1 in c:\\programdata\\anaconda3\\lib\\site-packages (from matplotlib>=2.0.0->prophet) (1.3.1)\n",
      "Requirement already satisfied: pyparsing!=2.0.4,!=2.1.2,!=2.1.6,>=2.0.3 in c:\\programdata\\anaconda3\\lib\\site-packages (from matplotlib>=2.0.0->prophet) (2.4.7)\n",
      "Requirement already satisfied: pillow>=6.2.0 in c:\\programdata\\anaconda3\\lib\\site-packages (from matplotlib>=2.0.0->prophet) (8.2.0)\n",
      "Requirement already satisfied: cycler>=0.10 in c:\\programdata\\anaconda3\\lib\\site-packages (from matplotlib>=2.0.0->prophet) (0.10.0)\n",
      "Requirement already satisfied: six in c:\\programdata\\anaconda3\\lib\\site-packages (from cycler>=0.10->matplotlib>=2.0.0->prophet) (1.15.0)\n",
      "Building wheels for collected packages: prophet\n",
      "  Building wheel for prophet (setup.py): started\n",
      "  Building wheel for prophet (setup.py): finished with status 'error'\n",
      "  Running setup.py clean for prophet\n",
      "Failed to build prophet\n",
      "Installing collected packages: prophet\n",
      "    Running setup.py install for prophet: started\n",
      "    Running setup.py install for prophet: finished with status 'error'\n"
     ]
    },
    {
     "name": "stderr",
     "output_type": "stream",
     "text": [
      "  error: Microsoft Visual C++ 14.0 or greater is required. Get it with \"Microsoft C++ Build Tools\": https://visualstudio.microsoft.com/visual-cpp-build-tools/\n",
      "  ----------------------------------------\n",
      "  ERROR: Failed building wheel for prophet\n",
      "    ERROR: Command errored out with exit status 1:\n",
      "     command: 'C:\\ProgramData\\Anaconda3\\python.exe' -u -c 'import sys, setuptools, tokenize; sys.argv[0] = '\"'\"'C:\\\\Users\\\\Yaswanth\\\\AppData\\\\Local\\\\Temp\\\\pip-install-av0x0x7x\\\\prophet_6d6b51cc563046ad95a1bb0add17e45f\\\\setup.py'\"'\"'; __file__='\"'\"'C:\\\\Users\\\\Yaswanth\\\\AppData\\\\Local\\\\Temp\\\\pip-install-av0x0x7x\\\\prophet_6d6b51cc563046ad95a1bb0add17e45f\\\\setup.py'\"'\"';f=getattr(tokenize, '\"'\"'open'\"'\"', open)(__file__);code=f.read().replace('\"'\"'\\r\\n'\"'\"', '\"'\"'\\n'\"'\"');f.close();exec(compile(code, __file__, '\"'\"'exec'\"'\"'))' install --record 'C:\\Users\\Yaswanth\\AppData\\Local\\Temp\\pip-record-tpgupu2z\\install-record.txt' --single-version-externally-managed --compile --install-headers 'C:\\ProgramData\\Anaconda3\\Include\\prophet'\n",
      "         cwd: C:\\Users\\Yaswanth\\AppData\\Local\\Temp\\pip-install-av0x0x7x\\prophet_6d6b51cc563046ad95a1bb0add17e45f\\\n",
      "    Complete output (10 lines):\n",
      "    running install\n",
      "    running build\n",
      "    running build_py\n",
      "    creating build\n",
      "    creating build\\lib\n",
      "    creating build\\lib\\prophet\n",
      "    creating build\\lib\\prophet\\stan_model\n",
      "    INFO:pystan:COMPILING THE C++ CODE FOR MODEL anon_model_f5236004a3fd5b8429270d00efcc0cf9 NOW.\n",
      "    WARNING:pystan:MSVC compiler is not supported\n",
      "    error: Microsoft Visual C++ 14.0 or greater is required. Get it with \"Microsoft C++ Build Tools\": https://visualstudio.microsoft.com/visual-cpp-build-tools/\n",
      "    ----------------------------------------\n",
      "ERROR: Command errored out with exit status 1: 'C:\\ProgramData\\Anaconda3\\python.exe' -u -c 'import sys, setuptools, tokenize; sys.argv[0] = '\"'\"'C:\\\\Users\\\\Yaswanth\\\\AppData\\\\Local\\\\Temp\\\\pip-install-av0x0x7x\\\\prophet_6d6b51cc563046ad95a1bb0add17e45f\\\\setup.py'\"'\"'; __file__='\"'\"'C:\\\\Users\\\\Yaswanth\\\\AppData\\\\Local\\\\Temp\\\\pip-install-av0x0x7x\\\\prophet_6d6b51cc563046ad95a1bb0add17e45f\\\\setup.py'\"'\"';f=getattr(tokenize, '\"'\"'open'\"'\"', open)(__file__);code=f.read().replace('\"'\"'\\r\\n'\"'\"', '\"'\"'\\n'\"'\"');f.close();exec(compile(code, __file__, '\"'\"'exec'\"'\"'))' install --record 'C:\\Users\\Yaswanth\\AppData\\Local\\Temp\\pip-record-tpgupu2z\\install-record.txt' --single-version-externally-managed --compile --install-headers 'C:\\ProgramData\\Anaconda3\\Include\\prophet' Check the logs for full command output.\n"
     ]
    }
   ],
   "source": [
    "!pip install prophet"
   ]
  },
  {
   "cell_type": "code",
   "execution_count": null,
   "id": "05e08974",
   "metadata": {},
   "outputs": [],
   "source": [
    "from prophet import Prophet"
   ]
  },
  {
   "cell_type": "code",
   "execution_count": null,
   "id": "d56eb806",
   "metadata": {},
   "outputs": [],
   "source": [
    "data = yf.download(tickers='UBER', period='5y')#, interval='1m')"
   ]
  },
  {
   "cell_type": "code",
   "execution_count": null,
   "id": "a14ac997",
   "metadata": {},
   "outputs": [],
   "source": [
    "data.columns"
   ]
  },
  {
   "cell_type": "markdown",
   "id": "7081c2a6",
   "metadata": {},
   "source": [
    "# Prophet"
   ]
  },
  {
   "cell_type": "code",
   "execution_count": null,
   "id": "8b072202",
   "metadata": {},
   "outputs": [],
   "source": [
    "data1 "
   ]
  },
  {
   "cell_type": "code",
   "execution_count": null,
   "id": "54f3fccf",
   "metadata": {},
   "outputs": [],
   "source": []
  },
  {
   "cell_type": "code",
   "execution_count": null,
   "id": "782f1412",
   "metadata": {},
   "outputs": [],
   "source": [
    "# Training data set\n",
    "X_train = (Source of data…)\n",
    "\n",
    "# Change column names for Prophet, if not, it will not work\n",
    "X_train.columns = [‘ds’, ‘y’]\n",
    "\n",
    "# Prepare the testing data set\n",
    "df_test = (Source of data…)\n",
    "\n",
    "# Prepare dates for Prophet for prediction, the column also must called ‘ds’\n",
    "X_test = pd.DataFrame(df_test[‘ds’])\n",
    "\n",
    "# Train the model and make prediction, same as SKlearn-style syntax\n",
    "model = Prophet()\n",
    "model.fit(X_train)\n",
    "pred = model.predict(X_test)"
   ]
  },
  {
   "cell_type": "markdown",
   "id": "e9e19066",
   "metadata": {},
   "source": [
    "# ARIMA"
   ]
  },
  {
   "cell_type": "code",
   "execution_count": null,
   "id": "875f876e",
   "metadata": {},
   "outputs": [],
   "source": []
  },
  {
   "cell_type": "code",
   "execution_count": null,
   "id": "dccffb7b",
   "metadata": {},
   "outputs": [],
   "source": []
  },
  {
   "cell_type": "code",
   "execution_count": null,
   "id": "7fa68321",
   "metadata": {},
   "outputs": [],
   "source": []
  },
  {
   "cell_type": "markdown",
   "id": "d1d962df",
   "metadata": {},
   "source": [
    "# Holts Winter"
   ]
  },
  {
   "cell_type": "code",
   "execution_count": null,
   "id": "e13ebc14",
   "metadata": {},
   "outputs": [],
   "source": []
  },
  {
   "cell_type": "code",
   "execution_count": null,
   "id": "d6062478",
   "metadata": {},
   "outputs": [],
   "source": []
  },
  {
   "cell_type": "code",
   "execution_count": null,
   "id": "ff694fe0",
   "metadata": {},
   "outputs": [],
   "source": []
  }
 ],
 "metadata": {
  "kernelspec": {
   "display_name": "Python 3",
   "language": "python",
   "name": "python3"
  },
  "language_info": {
   "codemirror_mode": {
    "name": "ipython",
    "version": 3
   },
   "file_extension": ".py",
   "mimetype": "text/x-python",
   "name": "python",
   "nbconvert_exporter": "python",
   "pygments_lexer": "ipython3",
   "version": "3.8.8"
  }
 },
 "nbformat": 4,
 "nbformat_minor": 5
}
